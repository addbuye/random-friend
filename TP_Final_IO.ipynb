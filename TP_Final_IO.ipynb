{
  "nbformat": 4,
  "nbformat_minor": 0,
  "metadata": {
    "colab": {
      "provenance": [],
      "include_colab_link": true
    },
    "kernelspec": {
      "name": "python3",
      "display_name": "Python 3"
    },
    "language_info": {
      "name": "python"
    }
  },
  "cells": [
    {
      "cell_type": "markdown",
      "metadata": {
        "id": "view-in-github",
        "colab_type": "text"
      },
      "source": [
        "<a href=\"https://colab.research.google.com/github/addbuye/random-friend/blob/main/TP_Final_IO.ipynb\" target=\"_parent\"><img src=\"https://colab.research.google.com/assets/colab-badge.svg\" alt=\"Open In Colab\"/></a>"
      ]
    },
    {
      "cell_type": "markdown",
      "source": [
        "# Información"
      ],
      "metadata": {
        "id": "HFGQ_WoLGP7L"
      }
    },
    {
      "cell_type": "code",
      "execution_count": null,
      "metadata": {
        "id": "wqWBF_qD-nU1",
        "colab": {
          "base_uri": "https://localhost:8080/"
        },
        "outputId": "d7c48b05-c870-4c58-f85b-9afe664715ba"
      },
      "outputs": [
        {
          "output_type": "stream",
          "name": "stdout",
          "text": [
            "Takeaway Lunes 12pm, personas: 15\n",
            "Consumo Lunes 12pm, personas: 13\n",
            "Takeaway Sabado 10 Am, personas: 14\n",
            "Consumo Sabado 10 Am, personas: 10\n",
            "Takeaway Lunes 9 Am, personas: 8\n",
            "Consumo Lunes 9 Am, personas: 10\n",
            "Takeaway Sabado 12pm, personas: 10\n",
            "Consumo Sabado 12pm, personas: 20\n",
            "ganancia_promedio_am 951.5252292871266\n",
            "ganancia_promedio_pm 892.6476443350097\n",
            "ganancia_promedio_sab 524.5374499312412\n",
            "ganancia_promedio_lun 818.3584893651973\n",
            "utilidad total: $ 65444.97535715485\n"
          ]
        }
      ],
      "source": [
        "import matplotlib as plt\n",
        "import numpy as np\n",
        "\n",
        "###### Asumo este costo por turno para cada uno de los recursos humanos.\n",
        "costo_recepcionista = 2800\n",
        "costo_chef = 5000\n",
        "costo_barista = 1200\n",
        "\n",
        "with open('./lunes_9am.csv', 'r') as lunes_9am:\n",
        "  ta_lun_9 = 0\n",
        "  consume_lun_9 = 0\n",
        "  ct_ta_lun_am = 0\n",
        "  ct_co_lun_am = 0\n",
        "  ct_ta_lun_pm = 0\n",
        "  ct_co_lun_pm = 0\n",
        "  ct_ta_sab_am = 0\n",
        "  ct_co_sab_am = 0\n",
        "  ct_ta_sab_pm = 0\n",
        "  ct_co_sab_pm = 0\n",
        "\n",
        "  for linea in lunes_9am:\n",
        "    linea = linea.split(',')\n",
        "    linea.pop(0)\n",
        "    if linea[2] == 'TA' or linea[2] == 'TA\\n':\n",
        "      ta_lun_9 = ta_lun_9 + 1\n",
        "      despacho_ta = np.random.uniform(15,20)\n",
        "      consumo_ta = np.random.uniform(400,1800)\n",
        "      linea.append(despacho_ta)\n",
        "      linea.append(consumo_ta)\n",
        "      ct_ta_lun_am = consumo_ta + ct_ta_lun_am\n",
        "\n",
        "\n",
        "    elif linea[2] == 'Consume' or linea[2]=='Consume\\n':\n",
        "      consume_lun_9 = consume_lun_9 + 1\n",
        "      despacho_co = np.random.uniform(45,60)\n",
        "      consumo_co = np.random.uniform(300,2000)\n",
        "      linea.append(despacho_co)\n",
        "      linea.append(consumo_co)\n",
        "      ct_co_lun_am = consumo_co + ct_co_lun_am\n",
        "  arribos_totales_lun_am = ta_lun_9 + consume_lun_9\n",
        "\n",
        "\n",
        "with open('./lunes_12pm.csv', 'r') as lunes_12pm:\n",
        "   ta_lun_12 = 0\n",
        "   consume_lun_12 = 0\n",
        "   for linea in lunes_12pm:\n",
        "     linea = linea.split(',')\n",
        "     linea.pop(0)\n",
        "     #print(linea)\n",
        "     if linea[2] == 'TA' or linea[2] == 'TA\\n':\n",
        "       ta_lun_12 = ta_lun_12 + 1\n",
        "       despacho_ta = np.random.uniform(15,20)\n",
        "       consumo_ta = np.random.uniform(400,1800)\n",
        "       linea.append(consumo_ta)\n",
        "       linea.append(despacho_ta)\n",
        "       ct_ta_lun_pm = consumo_ta + ct_ta_lun_pm\n",
        "     elif linea[2] == 'Consume' or linea[2]=='Consume\\n':\n",
        "       consume_lun_12 = consume_lun_12 + 1\n",
        "       despacho_co = np.random.uniform(60,120)\n",
        "       consumo_co = np.random.uniform(1800,4500)\n",
        "       linea.append(consumo_co)\n",
        "       linea.append(despacho_co)\n",
        "       ct_co_lun_pm = consumo_co + ct_co_lun_pm\n",
        "\n",
        "   arribos_totales_lun_pm = ta_lun_12 + consume_lun_12\n",
        "\n",
        "with open('./sab_10am.csv', 'r') as sab_10am:\n",
        "   ta_sab_10 = 0\n",
        "   consume_sab_10 = 0\n",
        "   for linea in sab_10am:\n",
        "     linea = linea.split(',')\n",
        "     linea.pop(0)\n",
        "     #print(linea)\n",
        "     if linea[2] == 'TA' or linea[2] == 'TA\\n':\n",
        "       ta_sab_10 = ta_sab_10 + 1\n",
        "       despacho_ta = np.random.uniform(15,20)\n",
        "       linea.append(despacho_ta)\n",
        "       consumo_ta = np.random.uniform(400,1800)\n",
        "       linea.append(consumo_ta)\n",
        "       ct_ta_sab_am = consumo_ta + ct_ta_sab_am\n",
        "     elif linea[2] == 'Consume\\n' or linea[2]=='Consume\\n':\n",
        "       consume_sab_10 = consume_sab_10 + 1\n",
        "       despacho_co = np.random.uniform(45,60)\n",
        "       linea.append(despacho_co)\n",
        "       consumo_co = np.random.uniform(1800,4500)\n",
        "       linea.append(consumo_co)\n",
        "       ct_co_sab_am = consumo_ta + ct_co_sab_am\n",
        "       \n",
        "       \n",
        "\n",
        "   arribos_totales_sab_am = ta_sab_10 + consume_sab_10\n",
        "\n",
        "with open('./sab_12pm.csv', 'r') as sab_12pm:\n",
        "   ta_sab_12 = 0\n",
        "   consume_sab_12 = 0\n",
        "   for linea in sab_12pm:\n",
        "     linea = linea.split(',')\n",
        "     linea.pop(0)\n",
        "     if linea[2] == 'TA' or linea[2] == 'TA\\n':\n",
        "       ta_sab_12 = ta_sab_12 + 1\n",
        "       despacho_ta = np.random.uniform(15,20)\n",
        "       consumo_ta = np.random.uniform(400,1800)\n",
        "       linea.append(consumo_ta)\n",
        "       linea.append(despacho_ta)\n",
        "       ct_ta_sab_pm = consumo_ta + ct_ta_sab_pm\n",
        "\n",
        "     elif linea[2] == 'Consume\\n' or linea[2]=='Consume\\n':\n",
        "       consume_sab_12 = consume_sab_12 + 1\n",
        "       despacho_co = np.random.uniform(60,120)\n",
        "       linea.append(despacho_co)\n",
        "       consumo_co = np.random.uniform(1800,4500)\n",
        "       linea.append(consumo_co)\n",
        "       ct_co_sab_pm = consumo_ta + ct_co_sab_pm\n",
        "       arribos_totales_sab_pm = ta_sab_12 + consume_sab_12\n",
        "\n",
        "\n",
        "print('Takeaway Lunes 12pm, personas: ' + str(ta_lun_12))\n",
        "print('Consumo Lunes 12pm, personas: ' + str(consume_lun_12))\n",
        "print('Takeaway Sabado 10 Am, personas: ' + str(ta_sab_10))\n",
        "print('Consumo Sabado 10 Am, personas: ' + str(consume_sab_10))\n",
        "print('Takeaway Lunes 9 Am, personas: ' + str(ta_lun_9))\n",
        "print('Consumo Lunes 9 Am, personas: ' + str(consume_lun_9))\n",
        "print('Takeaway Sabado 12pm, personas: ' + str(ta_sab_12))\n",
        "print('Consumo Sabado 12pm, personas: ' + str(consume_sab_12))\n",
        "#Sumo consumos por dias y por turno\n",
        "ct_lunes = ct_co_lun_am + ct_ta_lun_am + ct_co_lun_pm + ct_ta_lun_pm\n",
        "ct_sabado = ct_co_sab_am + ct_ta_sab_am + ct_co_sab_pm + ct_ta_sab_pm\n",
        "ct_am =  ct_co_lun_am + ct_ta_lun_am +  ct_co_sab_am + ct_ta_sab_am\n",
        "ct_pm = ct_co_lun_pm + ct_ta_lun_pm + ct_co_sab_pm + ct_ta_sab_pm\n",
        "#sumarizo el total\n",
        "consumos_totales = ct_co_lun_am + ct_ta_lun_am + ct_co_lun_pm + ct_ta_lun_pm + ct_co_sab_am + ct_ta_sab_am + ct_co_sab_pm + ct_ta_sab_pm\n",
        "#Sumo los costos por turno\n",
        "costos_totales_am = costo_recepcionista + costo_chef + costo_barista * 2\n",
        "costos_totales_pm = costo_recepcionista + costo_chef * 2 + costo_barista * 2\n",
        "\n",
        "#Sumo los costos por dia\n",
        "costo_diario = costos_totales_am + costos_totales_pm\n",
        "\n",
        "#utilidades\n",
        "#Multiplico el costo diario por dos, ya que tengo los  datos de consumo de dos dias, y el costo_diario solo considera uno.\n",
        "utilidad_total = consumos_totales - costo_diario*2\n",
        "utilidad_sabado = ct_sabado - costo_diario\n",
        "utilidad_lunes  = ct_lunes - costo_diario\n",
        "utilidad_am = ct_am -costos_totales_am\n",
        "utilidad_pm = ct_pm -costos_totales_pm\n",
        "\n",
        "ganancia_promedio_am = utilidad_am/(arribos_totales_lun_am + arribos_totales_sab_am)\n",
        "ganancia_promedio_pm = utilidad_pm/(arribos_totales_lun_pm + arribos_totales_sab_pm)\n",
        "ganancia_promedio_sab = utilidad_sabado/(arribos_totales_sab_am + arribos_totales_sab_pm)\n",
        "ganancia_promedio_lun = utilidad_lunes/(arribos_totales_lun_am + arribos_totales_lun_pm) \n",
        "\n",
        "print(\"ganancia_promedio_am\",ganancia_promedio_am)\n",
        "print(\"ganancia_promedio_pm\",ganancia_promedio_pm)\n",
        "print(\"ganancia_promedio_sab\",ganancia_promedio_sab)\n",
        "print(\"ganancia_promedio_lun\",ganancia_promedio_lun)\n",
        "print(\"utilidad total: $\",utilidad_total)\n"
      ]
    },
    {
      "cell_type": "markdown",
      "source": [
        "# Sábado"
      ],
      "metadata": {
        "id": "rtUXOUMhFVMV"
      }
    },
    {
      "cell_type": "code",
      "source": [
        "## SIMULACIÓN TIEMPO ENTRE ARRIBOS TOTALES PARA SABADO\n",
        "\n",
        "## BAJA DEMANDA\n",
        "import numpy as np\n",
        "import matplotlib.pyplot as plt\n",
        "\n",
        "experimentos = 100\n",
        "arribos = 20\n",
        "param = 24 #Sale del print anterior que muestra arribos en 1 hora del sabado Am\n",
        "samples = np.zeros((arribos, experimentos))\n",
        "\n",
        "for j in range(0, experimentos):\n",
        "  for i in range(0, arribos):\n",
        "    samples[i, j] = np.random.exponential(1/param)\n",
        "\n",
        "mean_sab_baja = np.mean(samples)\n",
        "std_sab_baja = np.std(samples)\n",
        "\n",
        "print('Promedio: ' + str(mean_sab_baja))\n",
        "print('Desvío estandar: ' + str(std_sab_baja))\n",
        "\n",
        "plt.bar(samples,height)\n",
        "plt.show()\n"
      ],
      "metadata": {
        "id": "JypRz345Zj89",
        "colab": {
          "base_uri": "https://localhost:8080/",
          "height": 260
        },
        "outputId": "4396c911-4b4e-4851-cfaa-8e205f2a138d"
      },
      "execution_count": null,
      "outputs": [
        {
          "output_type": "stream",
          "name": "stdout",
          "text": [
            "Promedio: 0.04287868017292319\n",
            "Desvío estandar: 0.04252257034201677\n"
          ]
        },
        {
          "output_type": "error",
          "ename": "NameError",
          "evalue": "ignored",
          "traceback": [
            "\u001b[0;31m---------------------------------------------------------------------------\u001b[0m",
            "\u001b[0;31mNameError\u001b[0m                                 Traceback (most recent call last)",
            "\u001b[0;32m<ipython-input-11-224f18b97e5a>\u001b[0m in \u001b[0;36m<module>\u001b[0;34m\u001b[0m\n\u001b[1;32m     20\u001b[0m \u001b[0mprint\u001b[0m\u001b[0;34m(\u001b[0m\u001b[0;34m'Desvío estandar: '\u001b[0m \u001b[0;34m+\u001b[0m \u001b[0mstr\u001b[0m\u001b[0;34m(\u001b[0m\u001b[0mstd_sab_baja\u001b[0m\u001b[0;34m)\u001b[0m\u001b[0;34m)\u001b[0m\u001b[0;34m\u001b[0m\u001b[0;34m\u001b[0m\u001b[0m\n\u001b[1;32m     21\u001b[0m \u001b[0;34m\u001b[0m\u001b[0m\n\u001b[0;32m---> 22\u001b[0;31m \u001b[0mplt\u001b[0m\u001b[0;34m.\u001b[0m\u001b[0mbar\u001b[0m\u001b[0;34m(\u001b[0m\u001b[0msamples\u001b[0m\u001b[0;34m,\u001b[0m\u001b[0mheight\u001b[0m\u001b[0;34m)\u001b[0m\u001b[0;34m\u001b[0m\u001b[0;34m\u001b[0m\u001b[0m\n\u001b[0m\u001b[1;32m     23\u001b[0m \u001b[0mplt\u001b[0m\u001b[0;34m.\u001b[0m\u001b[0mshow\u001b[0m\u001b[0;34m(\u001b[0m\u001b[0;34m)\u001b[0m\u001b[0;34m\u001b[0m\u001b[0;34m\u001b[0m\u001b[0m\n",
            "\u001b[0;31mNameError\u001b[0m: name 'height' is not defined"
          ]
        }
      ]
    },
    {
      "cell_type": "code",
      "source": [
        "## SIMULACIÓN TIEMPO ENTRE ARRIBOS TOTALES PARA SABADO\n",
        "\n",
        "## ALTA DEMANDA\n",
        "import numpy as np\n",
        "import matplotlib.pyplot as plt\n",
        "\n",
        "experimentos = 100\n",
        "arribos = 40\n",
        "param = 30 #Sale del print anterior que muestra arribos en 1 hora\n",
        "samples = np.zeros((arribos, experimentos))\n",
        "\n",
        "for j in range(0, experimentos):\n",
        "  for i in range(0, arribos):\n",
        "    samples[i, j] = np.random.exponential(1/param)\n",
        "\n",
        "mean_sab_alta = np.mean(samples)\n",
        "std_sab_alta = np.std(samples)\n",
        "\n",
        "print('Promedio: ' + str(mean_sab_alta))\n",
        "print('Desvío estandar: ' + str(std_sab_alta))\n",
        "\"\"\"\n",
        "plt.bar(samples, height=1)\n",
        "plt.show()\"\"\""
      ],
      "metadata": {
        "colab": {
          "base_uri": "https://localhost:8080/",
          "height": 70
        },
        "id": "ef0T21gfEGkC",
        "outputId": "a3da246b-e8d3-435e-b711-9f3363d50dc5"
      },
      "execution_count": null,
      "outputs": [
        {
          "output_type": "stream",
          "name": "stdout",
          "text": [
            "Promedio: 0.03335919812305325\n",
            "Desvío estandar: 0.033310415526580116\n"
          ]
        },
        {
          "output_type": "execute_result",
          "data": {
            "text/plain": [
              "'\\nplt.bar(samples, height=1)\\nplt.show()'"
            ],
            "application/vnd.google.colaboratory.intrinsic+json": {
              "type": "string"
            }
          },
          "metadata": {},
          "execution_count": 14
        }
      ]
    },
    {
      "cell_type": "code",
      "source": [
        "samples"
      ],
      "metadata": {
        "colab": {
          "base_uri": "https://localhost:8080/"
        },
        "id": "syxf6mIpcTfk",
        "outputId": "7d97f3a5-8852-4622-83f5-7437c2eb4b3f"
      },
      "execution_count": null,
      "outputs": [
        {
          "output_type": "execute_result",
          "data": {
            "text/plain": [
              "array([[0.00311684, 0.02708143, 0.03814066, ..., 0.02558799, 0.02894523,\n",
              "        0.03373782],\n",
              "       [0.02045577, 0.00324322, 0.11076231, ..., 0.0247173 , 0.01041594,\n",
              "        0.03833782],\n",
              "       [0.09797247, 0.00560918, 0.05874041, ..., 0.03533175, 0.00603344,\n",
              "        0.15493571],\n",
              "       ...,\n",
              "       [0.06765343, 0.03935303, 0.00080171, ..., 0.03876574, 0.12803671,\n",
              "        0.07021041],\n",
              "       [0.03968263, 0.01326167, 0.00721545, ..., 0.00043699, 0.01915029,\n",
              "        0.02622241],\n",
              "       [0.0055439 , 0.01132799, 0.0059287 , ..., 0.00668653, 0.15185372,\n",
              "        0.08040474]])"
            ]
          },
          "metadata": {},
          "execution_count": 12
        }
      ]
    },
    {
      "cell_type": "code",
      "source": [
        "import matplotlib.pyplot as plt\n",
        "plt.plot(np.cumsum(samples[:,0]))\n",
        "plt.plot(np.cumsum(samples[:,1]))\n",
        "plt.plot(np.cumsum(samples[:,2]))\n",
        "plt.plot(np.cumsum(samples[:,3]))\n",
        "plt.plot(np.cumsum(samples[:,4]))"
      ],
      "metadata": {
        "colab": {
          "base_uri": "https://localhost:8080/",
          "height": 283
        },
        "id": "EDzz0a4WcTqM",
        "outputId": "8cc59836-bf1a-4a46-b09e-b0bca6b13e88"
      },
      "execution_count": null,
      "outputs": [
        {
          "output_type": "execute_result",
          "data": {
            "text/plain": [
              "[<matplotlib.lines.Line2D at 0x7f0da8df1290>]"
            ]
          },
          "metadata": {},
          "execution_count": 18
        },
        {
          "output_type": "display_data",
          "data": {
            "text/plain": [
              "<Figure size 432x288 with 1 Axes>"
            ],
            "image/png": "[encoded data removed]"
          },
          "metadata": {
            "needs_background": "light"
          }
        }
      ]
    },
    {
      "cell_type": "markdown",
      "source": [],
      "metadata": {
        "id": "as2tdzsA_3Qm"
      }
    },
    {
      "cell_type": "markdown",
      "source": [
        "# Lunes\n"
      ],
      "metadata": {
        "id": "izM7VcgkFYUp"
      }
    },
    {
      "cell_type": "code",
      "source": [
        "## SIMULACIÓN TIEMPO ENTRE ARRIBOS TOTALES PARA LUNES\n",
        "\n",
        "## BAJA DEMANDA\n",
        "import numpy as np\n",
        "import matplotlib.pyplot as plt\n",
        "\n",
        "experimentos = 100\n",
        "arribos = 20\n",
        "param = 18 #Sale del print anterior que muestra arribos en 1 hora\n",
        "samples = np.zeros((arribos, experimentos))\n",
        "\n",
        "for j in range(0, experimentos):\n",
        "  for i in range(0, arribos):\n",
        "    samples[i, j] = np.random.exponential(1/param)\n",
        "\n",
        "mean_lun_baja = np.mean(samples)\n",
        "std_lun_baja = np.std(samples)\n",
        "\n",
        "print('Promedio: ' + str(mean_lun_baja))\n",
        "print('Desvío estandar: ' + str(std_lun_baja))\n",
        "\"\"\"\n",
        "plt.bar(samples, height=1)\n",
        "plt.show()\"\"\""
      ],
      "metadata": {
        "colab": {
          "base_uri": "https://localhost:8080/",
          "height": 70
        },
        "id": "9r-jFXueFbgh",
        "outputId": "a799d1b7-c8bd-4861-b733-8d9424477666"
      },
      "execution_count": null,
      "outputs": [
        {
          "output_type": "stream",
          "name": "stdout",
          "text": [
            "Promedio: 0.05417096761574695\n",
            "Desvío estandar: 0.054141457837030046\n"
          ]
        },
        {
          "output_type": "execute_result",
          "data": {
            "text/plain": [
              "'\\nplt.bar(samples, height=1)\\nplt.show()'"
            ],
            "application/vnd.google.colaboratory.intrinsic+json": {
              "type": "string"
            }
          },
          "metadata": {},
          "execution_count": 15
        }
      ]
    },
    {
      "cell_type": "code",
      "source": [
        "## SIMULACIÓN TIEMPO ENTRE ARRIBOS TOTALES PARA LUNES\n",
        "\n",
        "## ALTA DEMANDA\n",
        "import numpy as np\n",
        "import matplotlib.pyplot as plt\n",
        "\n",
        "experimentos = 100\n",
        "arribos = 20\n",
        "param =  #Sale del print anterior que muestra arribos en 1 hora\n",
        "samples = np.zeros((arribos, experimentos))\n",
        "\n",
        "for j in range(0, experimentos):\n",
        "  for i in range(0, arribos):\n",
        "    samples[i, j] = np.random.exponential(1/param)\n",
        "\n",
        "mean_lun_alta = np.mean(samples)\n",
        "std_lun_alta = np.std(samples)\n",
        "\n",
        "print('Promedio: ' + str(mean_lun_alta))\n",
        "print('Desvío estandar: ' + str(std_lun_alta))\n",
        "\"\"\"\n",
        "plt.bar(samples, height=1)\n",
        "plt.show()\"\"\""
      ],
      "metadata": {
        "colab": {
          "base_uri": "https://localhost:8080/",
          "height": 70
        },
        "id": "XF5Mqk3-Fnq-",
        "outputId": "484ec519-e189-45ef-a354-b932b784c149"
      },
      "execution_count": null,
      "outputs": [
        {
          "output_type": "stream",
          "name": "stdout",
          "text": [
            "Promedio: 0.03603969948217799\n",
            "Desvío estandar: 0.03518419374577753\n"
          ]
        },
        {
          "output_type": "execute_result",
          "data": {
            "text/plain": [
              "'\\nplt.bar(samples, height=1)\\nplt.show()'"
            ],
            "application/vnd.google.colaboratory.intrinsic+json": {
              "type": "string"
            }
          },
          "metadata": {},
          "execution_count": 16
        }
      ]
    }
  ]
}